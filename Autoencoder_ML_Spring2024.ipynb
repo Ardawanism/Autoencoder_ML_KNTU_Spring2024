{
 "cells": [
  {
   "cell_type": "markdown",
   "metadata": {
    "id": "H7RrZHRzcKSI"
   },
   "source": [
    "An implementation of Fully-Connected Autoencoder\n",
    "aiming for dimensionality reduction\n",
    "provided for Machine earning Course, KNTU, Spring 2024.\n",
    "\n",
    "Programmed by Ardavan Modarres\n",
    "ardavan.modarres@email.kntu.ac.ir\n",
    "* 2024-04-20: Initial coding"
   ]
  },
  {
   "cell_type": "code",
   "execution_count": null,
   "metadata": {
    "id": "WmTsM5OiEIx1"
   },
   "outputs": [],
   "source": [
    "import torch\n",
    "import torch.nn as nn\n",
    "import torch.nn.functional as F\n",
    "import torch.optim as optim\n",
    "from torchvision import datasets, transforms\n",
    "from torch.utils.data import Dataset, DataLoader\n",
    "import numpy as np\n",
    "import matplotlib.pyplot as plt\n",
    "from tqdm import tqdm"
   ]
  },
  {
   "cell_type": "code",
   "execution_count": null,
   "metadata": {
    "id": "zRo4ozPKQZJY"
   },
   "outputs": [],
   "source": [
    "# Set device\n",
    "device = torch.device(\"cuda\" if torch.cuda.is_available() else \"cpu\")\n",
    "# Hyperparameters\n",
    "lr = 3e-4\n",
    "batch_size = 64\n",
    "num_epochs = 50"
   ]
  },
  {
   "cell_type": "code",
   "execution_count": null,
   "metadata": {
    "id": "j8j0f0WmaUn-"
   },
   "outputs": [],
   "source": [
    "transform = transforms.ToTensor()\n",
    "\n",
    "train_set = datasets.MNIST(root='./data', train=True, download=True, transform=transform)\n",
    "test_set = datasets.MNIST(root='./data', train=False, download=True, transform=transform)\n",
    "\n",
    "train_loader = DataLoader(dataset=train_set, batch_size=batch_size, shuffle=True)\n",
    "test_loader = DataLoader(dataset=test_set, batch_size=batch_size, shuffle=True)"
   ]
  },
  {
   "cell_type": "code",
   "execution_count": null,
   "metadata": {
    "colab": {
     "base_uri": "https://localhost:8080/"
    },
    "id": "L5RZs1DXgCfx",
    "outputId": "d754bb35-c83d-458f-baff-d340101ddc01"
   },
   "outputs": [
    {
     "name": "stdout",
     "output_type": "stream",
     "text": [
      "torch.Size([64, 128])\n",
      "torch.Size([64, 16])\n"
     ]
    }
   ],
   "source": [
    "x = torch.rand(64, 784)\n",
    "linear1 = nn.Linear(28 * 28, 128)\n",
    "x1 = linear1(x)\n",
    "print(x1.shape)\n",
    "linear2 = nn.Linear(128, 16)\n",
    "x2 = linear2(x1)\n",
    "print(x2.shape)"
   ]
  },
  {
   "cell_type": "code",
   "execution_count": null,
   "metadata": {
    "id": "HpbEa0K7G4z-"
   },
   "outputs": [],
   "source": [
    "# Dense Autoencoder model\n",
    "class Dense_Autoencoder(nn.Module):\n",
    "    def __init__(self):\n",
    "        super().__init__()\n",
    "        self.encoder = nn.Sequential(\n",
    "            nn.Linear(28 * 28, 128),\n",
    "            nn.ReLU(),\n",
    "            nn.Linear(128, 64),\n",
    "            nn.ReLU(),\n",
    "            nn.Linear(64, 12),\n",
    "            nn.ReLU(),\n",
    "            nn.Linear(12, 3)\n",
    "        )\n",
    "\n",
    "        self.decoder = nn.Sequential(\n",
    "            nn.Linear(3, 12),\n",
    "            nn.ReLU(),\n",
    "            nn.Linear(12, 64),\n",
    "            nn.ReLU(),\n",
    "            nn.Linear(64, 128),\n",
    "            nn.ReLU(),\n",
    "            nn.Linear(128, 28 * 28),\n",
    "            nn.Sigmoid()\n",
    "        )\n",
    "\n",
    "    def forward(self, x):\n",
    "        encoded = self.encoder(x)\n",
    "        decoded = self.decoder(encoded)\n",
    "        return encoded, decoded"
   ]
  },
  {
   "cell_type": "code",
   "execution_count": null,
   "metadata": {
    "id": "hS_WwwkEHThs"
   },
   "outputs": [],
   "source": [
    "model = Dense_Autoencoder().to(device)\n",
    "\n",
    "criterion = nn.MSELoss()\n",
    "optimizer = optim.Adam(model.parameters(), lr=lr)"
   ]
  },
  {
   "cell_type": "code",
   "execution_count": null,
   "metadata": {
    "colab": {
     "base_uri": "https://localhost:8080/",
     "height": 382
    },
    "id": "miq1rTvLJ1SQ",
    "outputId": "fca37152-24b2-4e29-dc45-6f0e593e85ed"
   },
   "outputs": [
    {
     "data": {
      "image/png": "[encoded data removed]",
      "text/plain": [
       "<Figure size 640x480 with 2 Axes>"
      ]
     },
     "metadata": {},
     "output_type": "display_data"
    }
   ],
   "source": [
    "dataiter = iter(test_loader)\n",
    "images, labels = next(dataiter)\n",
    "plt.subplot(1, 2, 1)\n",
    "plt.imshow(images[0][0], cmap='gray')\n",
    "plt.title(\"Original\")\n",
    "plt.axis(\"off\")\n",
    "plt.subplot(1, 2, 2)\n",
    "model.eval()\n",
    "with torch.no_grad():\n",
    "  z, xh = model(images[0][0].reshape(-1, 28*28).to(device))\n",
    "  xh = xh.reshape(-1, 28,28).detach().cpu().numpy()\n",
    "model.train()\n",
    "plt.imshow(xh[0], cmap='gray')\n",
    "plt.title(\"Reconstructed\")\n",
    "plt.axis(\"off\")\n",
    "plt.suptitle(\"Handwritten number: \" + str(labels[0].item()))\n",
    "plt.show()"
   ]
  },
  {
   "cell_type": "code",
   "execution_count": null,
   "metadata": {
    "colab": {
     "base_uri": "https://localhost:8080/"
    },
    "id": "TjJA_rWnJLUO",
    "outputId": "438eeae2-0d39-4e26-dfb9-a03b26740938"
   },
   "outputs": [
    {
     "name": "stderr",
     "output_type": "stream",
     "text": [
      "100%|██████████| 938/938 [00:09<00:00, 97.71it/s] \n",
      "100%|██████████| 938/938 [00:09<00:00, 98.84it/s] \n",
      "100%|██████████| 938/938 [00:09<00:00, 103.50it/s]\n",
      "100%|██████████| 938/938 [00:09<00:00, 103.97it/s]\n",
      "100%|██████████| 938/938 [00:09<00:00, 99.86it/s] \n",
      "100%|██████████| 938/938 [00:09<00:00, 99.53it/s] \n",
      "100%|██████████| 938/938 [00:09<00:00, 101.60it/s]\n",
      "100%|██████████| 938/938 [00:09<00:00, 103.09it/s]\n",
      "100%|██████████| 938/938 [00:09<00:00, 97.85it/s] \n",
      "100%|██████████| 938/938 [00:09<00:00, 99.96it/s] \n",
      "100%|██████████| 938/938 [00:09<00:00, 102.22it/s]\n",
      "100%|██████████| 938/938 [00:08<00:00, 109.10it/s]\n",
      "100%|██████████| 938/938 [00:09<00:00, 100.25it/s]\n",
      "100%|██████████| 938/938 [00:09<00:00, 101.92it/s]\n",
      "100%|██████████| 938/938 [00:09<00:00, 102.06it/s]\n",
      "100%|██████████| 938/938 [00:08<00:00, 110.43it/s]\n",
      "100%|██████████| 938/938 [00:09<00:00, 102.24it/s]\n",
      "100%|██████████| 938/938 [00:09<00:00, 102.39it/s]\n",
      "100%|██████████| 938/938 [00:09<00:00, 101.58it/s]\n",
      "100%|██████████| 938/938 [00:08<00:00, 108.73it/s]\n",
      "100%|██████████| 938/938 [00:09<00:00, 102.48it/s]\n",
      "100%|██████████| 938/938 [00:09<00:00, 101.13it/s]\n",
      "100%|██████████| 938/938 [00:09<00:00, 100.46it/s]\n",
      "100%|██████████| 938/938 [00:08<00:00, 108.49it/s]\n",
      "100%|██████████| 938/938 [00:09<00:00, 100.83it/s]\n",
      "100%|██████████| 938/938 [00:09<00:00, 100.79it/s]\n",
      "100%|██████████| 938/938 [00:09<00:00, 100.13it/s]\n",
      "100%|██████████| 938/938 [00:08<00:00, 105.49it/s]\n",
      "100%|██████████| 938/938 [00:09<00:00, 100.72it/s]\n",
      "100%|██████████| 938/938 [00:09<00:00, 101.58it/s]\n",
      "100%|██████████| 938/938 [00:09<00:00, 100.32it/s]\n",
      "100%|██████████| 938/938 [00:08<00:00, 107.96it/s]\n",
      "100%|██████████| 938/938 [00:09<00:00, 101.94it/s]\n",
      "100%|██████████| 938/938 [00:09<00:00, 101.68it/s]\n",
      "100%|██████████| 938/938 [00:09<00:00, 102.86it/s]\n",
      "100%|██████████| 938/938 [00:08<00:00, 111.55it/s]\n",
      "100%|██████████| 938/938 [00:09<00:00, 102.89it/s]\n",
      "100%|██████████| 938/938 [00:09<00:00, 102.38it/s]\n",
      "100%|██████████| 938/938 [00:09<00:00, 102.94it/s]\n",
      "100%|██████████| 938/938 [00:08<00:00, 110.83it/s]\n",
      "100%|██████████| 938/938 [00:09<00:00, 102.58it/s]\n",
      "100%|██████████| 938/938 [00:09<00:00, 103.49it/s]\n",
      "100%|██████████| 938/938 [00:09<00:00, 103.33it/s]\n",
      "100%|██████████| 938/938 [00:08<00:00, 108.80it/s]\n",
      "100%|██████████| 938/938 [00:09<00:00, 102.42it/s]\n",
      "100%|██████████| 938/938 [00:09<00:00, 102.69it/s]\n",
      "100%|██████████| 938/938 [00:08<00:00, 105.46it/s]\n",
      "100%|██████████| 938/938 [00:08<00:00, 106.59it/s]\n",
      "100%|██████████| 938/938 [00:09<00:00, 103.27it/s]\n",
      "100%|██████████| 938/938 [00:09<00:00, 103.60it/s]\n"
     ]
    }
   ],
   "source": [
    "for epoch in range(num_epochs):\n",
    "    for batch_idx, (img, _) in enumerate(tqdm(train_loader)):\n",
    "        img = img.reshape(-1, 28*28).to(device)\n",
    "        _, recon = model(img)\n",
    "        loss = criterion(recon, img)\n",
    "\n",
    "        optimizer.zero_grad()\n",
    "        loss.backward()\n",
    "        optimizer.step()"
   ]
  },
  {
   "cell_type": "code",
   "execution_count": null,
   "metadata": {
    "colab": {
     "base_uri": "https://localhost:8080/",
     "height": 1000
    },
    "id": "he7UtjU-Tc_q",
    "outputId": "e7b9e394-f38c-4bf2-ab1c-c651d8cec9a5"
   },
   "outputs": [
    {
     "data": {
      "image/png": "[encoded data removed]",
      "text/plain": [
       "<Figure size 640x480 with 2 Axes>"
      ]
     },
     "metadata": {},
     "output_type": "display_data"
    },
    {
     "data": {
      "image/png": "[encoded data removed]",
      "text/plain": [
       "<Figure size 640x480 with 2 Axes>"
      ]
     },
     "metadata": {},
     "output_type": "display_data"
    },
    {
     "data": {
      "image/png": "[encoded data removed]",
      "text/plain": [
       "<Figure size 640x480 with 2 Axes>"
      ]
     },
     "metadata": {},
     "output_type": "display_data"
    },
    {
     "data": {
      "image/png": "[encoded data removed]",
      "text/plain": [
       "<Figure size 640x480 with 2 Axes>"
      ]
     },
     "metadata": {},
     "output_type": "display_data"
    },
    {
     "data": {
      "image/png": "[encoded data removed]",
      "text/plain": [
       "<Figure size 640x480 with 2 Axes>"
      ]
     },
     "metadata": {},
     "output_type": "display_data"
    }
   ],
   "source": [
    "model.eval()\n",
    "with torch.no_grad():\n",
    "    for batch_idx, (x, y) in enumerate(test_loader):\n",
    "      if batch_idx <5:\n",
    "        x = x.to(device=device)\n",
    "        z, xh = model(x.reshape(-1, 28*28))\n",
    "        xh = xh.reshape(-1, 28,28).detach().cpu().numpy()\n",
    "        plt.subplot(1, 2, 1)\n",
    "        plt.imshow(x[0][0].cpu().numpy(), cmap='gray')\n",
    "        plt.title(\"Original\")\n",
    "        plt.axis(\"off\")\n",
    "\n",
    "        plt.subplot(1, 2, 2)\n",
    "        plt.imshow(xh[0], cmap='gray')\n",
    "        plt.title(\"Reconstructed\")\n",
    "        plt.axis(\"off\")\n",
    "        plt.suptitle(\"Handwritten number: \" + str(y[0].item()))\n",
    "        plt.show()\n",
    "      else:\n",
    "        break"
   ]
  },
  {
   "cell_type": "code",
   "execution_count": null,
   "metadata": {
    "colab": {
     "base_uri": "https://localhost:8080/"
    },
    "id": "e56EvVLNfvma",
    "outputId": "ffcc06a9-71d9-4aa0-bd91-62faa2095672"
   },
   "outputs": [
    {
     "name": "stdout",
     "output_type": "stream",
     "text": [
      "Dense_Autoencoder(\n",
      "  (encoder): Sequential(\n",
      "    (0): Linear(in_features=784, out_features=128, bias=True)\n",
      "    (1): ReLU()\n",
      "    (2): Linear(in_features=128, out_features=64, bias=True)\n",
      "    (3): ReLU()\n",
      "    (4): Linear(in_features=64, out_features=12, bias=True)\n",
      "    (5): ReLU()\n",
      "    (6): Linear(in_features=12, out_features=3, bias=True)\n",
      "  )\n",
      "  (decoder): Sequential(\n",
      "    (0): Linear(in_features=3, out_features=12, bias=True)\n",
      "    (1): ReLU()\n",
      "    (2): Linear(in_features=12, out_features=64, bias=True)\n",
      "    (3): ReLU()\n",
      "    (4): Linear(in_features=64, out_features=128, bias=True)\n",
      "    (5): ReLU()\n",
      "    (6): Linear(in_features=128, out_features=784, bias=True)\n",
      "    (7): Sigmoid()\n",
      "  )\n",
      ")\n"
     ]
    }
   ],
   "source": [
    "print(model)"
   ]
  },
  {
   "cell_type": "code",
   "execution_count": null,
   "metadata": {
    "colab": {
     "base_uri": "https://localhost:8080/"
    },
    "id": "1B_VSaOYNnnk",
    "outputId": "f97cb874-13ce-4c00-f6c3-5271638fec80"
   },
   "outputs": [
    {
     "name": "stdout",
     "output_type": "stream",
     "text": [
      "torch.Size([64, 3])\n",
      "torch.Size([64, 784])\n"
     ]
    }
   ],
   "source": [
    "print(model.encoder(torch.rand(64, 28*28).to(device)).shape)\n",
    "print(model.decoder(torch.rand(64, 3).to(device)).shape)"
   ]
  },
  {
   "cell_type": "markdown",
   "metadata": {
    "id": "wb2P93YKPNih"
   },
   "source": [
    "# Custom Dataset"
   ]
  },
  {
   "cell_type": "code",
   "execution_count": null,
   "metadata": {
    "colab": {
     "base_uri": "https://localhost:8080/"
    },
    "id": "KsSz5QjUNxaT",
    "outputId": "47872494-651f-48d2-db06-2c495c1d1123"
   },
   "outputs": [
    {
     "name": "stdout",
     "output_type": "stream",
     "text": [
      "*************************** Information of a single sample ***************************\n",
      "torch.Size([784]) torch.Size([])\n",
      "torch.float32 torch.int64\n",
      "*************************** Information of a batch of samples ***************************\n",
      "torch.Size([64, 784]) torch.Size([64])\n",
      "torch.float32 torch.int64\n",
      "*************************** Information of a batch of samples before/after being passed to model ***************************\n",
      "torch.Size([64, 784]) torch.Size([64])\n",
      "torch.float32 torch.int64\n",
      "torch.Size([64, 3]) torch.Size([64, 784])\n"
     ]
    }
   ],
   "source": [
    "x = np.random.rand(1000, 784)\n",
    "y = np.random.rand(1000)\n",
    "\n",
    "# transform = transforms.ToTensor()\n",
    "\n",
    "class CustomDataSet(Dataset):\n",
    "    def __init__(self, features, targets, transform=None):\n",
    "      self.features = features\n",
    "      self.targets = targets\n",
    "      self.transform = transform\n",
    "      self.num_samples = features.shape[0]\n",
    "\n",
    "    def __len__(self):\n",
    "        return self.num_samples\n",
    "\n",
    "    def __getitem__(self, index):\n",
    "        x = torch.tensor(self.features[index]).to(torch.float32)\n",
    "        y = torch.tensor(int(self.targets[index]))\n",
    "\n",
    "        # if self.transform:\n",
    "        #     x = self.transform(x)\n",
    "\n",
    "        return x, y\n",
    "\n",
    "dset = CustomDataSet(x, y)\n",
    "loader = DataLoader(dataset=dset, batch_size=batch_size, shuffle=True)\n",
    "print(\"*************************** Information of a single sample ***************************\")\n",
    "data, target = dset[10]\n",
    "print(data.shape, target.shape)\n",
    "print(data.dtype, target.dtype)\n",
    "print(\"*************************** Information of a batch of samples ***************************\")\n",
    "dataiter = iter(loader)\n",
    "data, target = next(dataiter)\n",
    "print(data.shape, target.shape)\n",
    "print(data.dtype, target.dtype)\n",
    "print(\"*************************** Information of a batch of samples before/after being passed to model ***************************\")\n",
    "for batch_idx, (x, y) in enumerate(loader):\n",
    "  if batch_idx == 0:\n",
    "    print(x.shape, y.shape)\n",
    "    print(x.dtype, y.dtype)\n",
    "    with torch.no_grad():\n",
    "      z, xh = model(x.to(device))\n",
    "      print(z.shape, xh.shape)\n",
    "  else:\n",
    "    break"
   ]
  },
  {
   "cell_type": "code",
   "execution_count": null,
   "metadata": {
    "id": "7bcAs3WVXrfY"
   },
   "outputs": [],
   "source": []
  }
 ],
 "metadata": {
  "colab": {
   "provenance": []
  },
  "kernelspec": {
   "display_name": "Python 3",
   "language": "python",
   "name": "python3"
  },
  "language_info": {
   "codemirror_mode": {
    "name": "ipython",
    "version": 3
   },
   "file_extension": ".py",
   "mimetype": "text/x-python",
   "name": "python",
   "nbconvert_exporter": "python",
   "pygments_lexer": "ipython3",
   "version": "3.8.12"
  }
 },
 "nbformat": 4,
 "nbformat_minor": 1
}
